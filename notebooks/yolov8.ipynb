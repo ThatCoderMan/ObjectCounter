{
 "cells": [
  {
   "cell_type": "markdown",
   "id": "9f24766c-af59-4ae6-a00b-39051ef783a9",
   "metadata": {
    "id": "9f24766c-af59-4ae6-a00b-39051ef783a9"
   },
   "source": [
    "## Install and Import Package\n",
    "Installing the **ultralytics** library\n",
    "**Ultralytics** is a library that provides tools for working with the YOLOv8 model. YOLOv8 is an advanced model for object detection, image segmentation, and image classification"
   ]
  },
  {
   "cell_type": "code",
   "execution_count": 1,
   "id": "1c6fe336-9564-4d40-bbc4-ae9a823ea6e4",
   "metadata": {
    "colab": {
     "base_uri": "https://localhost:8080/",
     "height": 1000
    },
    "id": "1c6fe336-9564-4d40-bbc4-ae9a823ea6e4",
    "outputId": "771faace-b2e3-4f2e-c09f-42a36dfbabec",
    "scrolled": true,
    "tags": [],
    "ExecuteTime": {
     "end_time": "2023-12-03T13:35:07.144477300Z",
     "start_time": "2023-12-03T13:35:04.515447900Z"
    }
   },
   "outputs": [
    {
     "name": "stdout",
     "output_type": "stream",
     "text": [
      "Requirement already satisfied: ultralytics in c:\\users\\rokeb\\pycharmprojects\\hay_test_task\\new_venv\\lib\\site-packages (8.0.208)"
     ]
    },
    {
     "name": "stderr",
     "output_type": "stream",
     "text": [
      "\n",
      "[notice] A new release of pip available: 22.3.1 -> 23.3.1\n",
      "[notice] To update, run: python.exe -m pip install --upgrade pip\n"
     ]
    },
    {
     "name": "stdout",
     "output_type": "stream",
     "text": [
      "\n",
      "Requirement already satisfied: matplotlib>=3.3.0 in c:\\users\\rokeb\\pycharmprojects\\hay_test_task\\new_venv\\lib\\site-packages (from ultralytics) (3.8.1)\n",
      "Requirement already satisfied: numpy>=1.22.2 in c:\\users\\rokeb\\pycharmprojects\\hay_test_task\\new_venv\\lib\\site-packages (from ultralytics) (1.24.1)\n",
      "Requirement already satisfied: opencv-python>=4.6.0 in c:\\users\\rokeb\\pycharmprojects\\hay_test_task\\new_venv\\lib\\site-packages (from ultralytics) (4.8.1.78)\n",
      "Requirement already satisfied: pillow>=7.1.2 in c:\\users\\rokeb\\pycharmprojects\\hay_test_task\\new_venv\\lib\\site-packages (from ultralytics) (9.3.0)\n",
      "Requirement already satisfied: pyyaml>=5.3.1 in c:\\users\\rokeb\\pycharmprojects\\hay_test_task\\new_venv\\lib\\site-packages (from ultralytics) (6.0.1)\n",
      "Requirement already satisfied: requests>=2.23.0 in c:\\users\\rokeb\\pycharmprojects\\hay_test_task\\new_venv\\lib\\site-packages (from ultralytics) (2.31.0)\n",
      "Requirement already satisfied: scipy>=1.4.1 in c:\\users\\rokeb\\pycharmprojects\\hay_test_task\\new_venv\\lib\\site-packages (from ultralytics) (1.11.3)\n",
      "Requirement already satisfied: torch>=1.8.0 in c:\\users\\rokeb\\pycharmprojects\\hay_test_task\\new_venv\\lib\\site-packages (from ultralytics) (2.1.0+cu121)\n",
      "Requirement already satisfied: torchvision>=0.9.0 in c:\\users\\rokeb\\pycharmprojects\\hay_test_task\\new_venv\\lib\\site-packages (from ultralytics) (0.16.0+cu121)\n",
      "Requirement already satisfied: tqdm>=4.64.0 in c:\\users\\rokeb\\pycharmprojects\\hay_test_task\\new_venv\\lib\\site-packages (from ultralytics) (4.66.1)\n",
      "Requirement already satisfied: pandas>=1.1.4 in c:\\users\\rokeb\\pycharmprojects\\hay_test_task\\new_venv\\lib\\site-packages (from ultralytics) (2.1.2)\n",
      "Requirement already satisfied: seaborn>=0.11.0 in c:\\users\\rokeb\\pycharmprojects\\hay_test_task\\new_venv\\lib\\site-packages (from ultralytics) (0.13.0)\n",
      "Requirement already satisfied: psutil in c:\\users\\rokeb\\pycharmprojects\\hay_test_task\\new_venv\\lib\\site-packages (from ultralytics) (5.9.6)\n",
      "Requirement already satisfied: py-cpuinfo in c:\\users\\rokeb\\pycharmprojects\\hay_test_task\\new_venv\\lib\\site-packages (from ultralytics) (9.0.0)\n",
      "Requirement already satisfied: thop>=0.1.1 in c:\\users\\rokeb\\pycharmprojects\\hay_test_task\\new_venv\\lib\\site-packages (from ultralytics) (0.1.1.post2209072238)\n",
      "Requirement already satisfied: contourpy>=1.0.1 in c:\\users\\rokeb\\pycharmprojects\\hay_test_task\\new_venv\\lib\\site-packages (from matplotlib>=3.3.0->ultralytics) (1.2.0)\n",
      "Requirement already satisfied: cycler>=0.10 in c:\\users\\rokeb\\pycharmprojects\\hay_test_task\\new_venv\\lib\\site-packages (from matplotlib>=3.3.0->ultralytics) (0.12.1)\n",
      "Requirement already satisfied: fonttools>=4.22.0 in c:\\users\\rokeb\\pycharmprojects\\hay_test_task\\new_venv\\lib\\site-packages (from matplotlib>=3.3.0->ultralytics) (4.44.0)\n",
      "Requirement already satisfied: kiwisolver>=1.3.1 in c:\\users\\rokeb\\pycharmprojects\\hay_test_task\\new_venv\\lib\\site-packages (from matplotlib>=3.3.0->ultralytics) (1.4.5)\n",
      "Requirement already satisfied: packaging>=20.0 in c:\\users\\rokeb\\pycharmprojects\\hay_test_task\\new_venv\\lib\\site-packages (from matplotlib>=3.3.0->ultralytics) (23.2)\n",
      "Requirement already satisfied: pyparsing>=2.3.1 in c:\\users\\rokeb\\pycharmprojects\\hay_test_task\\new_venv\\lib\\site-packages (from matplotlib>=3.3.0->ultralytics) (3.1.1)\n",
      "Requirement already satisfied: python-dateutil>=2.7 in c:\\users\\rokeb\\pycharmprojects\\hay_test_task\\new_venv\\lib\\site-packages (from matplotlib>=3.3.0->ultralytics) (2.8.2)\n",
      "Requirement already satisfied: pytz>=2020.1 in c:\\users\\rokeb\\pycharmprojects\\hay_test_task\\new_venv\\lib\\site-packages (from pandas>=1.1.4->ultralytics) (2023.3.post1)\n",
      "Requirement already satisfied: tzdata>=2022.1 in c:\\users\\rokeb\\pycharmprojects\\hay_test_task\\new_venv\\lib\\site-packages (from pandas>=1.1.4->ultralytics) (2023.3)\n",
      "Requirement already satisfied: charset-normalizer<4,>=2 in c:\\users\\rokeb\\pycharmprojects\\hay_test_task\\new_venv\\lib\\site-packages (from requests>=2.23.0->ultralytics) (2.1.1)\n",
      "Requirement already satisfied: idna<4,>=2.5 in c:\\users\\rokeb\\pycharmprojects\\hay_test_task\\new_venv\\lib\\site-packages (from requests>=2.23.0->ultralytics) (3.4)\n",
      "Requirement already satisfied: urllib3<3,>=1.21.1 in c:\\users\\rokeb\\pycharmprojects\\hay_test_task\\new_venv\\lib\\site-packages (from requests>=2.23.0->ultralytics) (1.26.13)\n",
      "Requirement already satisfied: certifi>=2017.4.17 in c:\\users\\rokeb\\pycharmprojects\\hay_test_task\\new_venv\\lib\\site-packages (from requests>=2.23.0->ultralytics) (2022.12.7)\n",
      "Requirement already satisfied: filelock in c:\\users\\rokeb\\pycharmprojects\\hay_test_task\\new_venv\\lib\\site-packages (from torch>=1.8.0->ultralytics) (3.9.0)\n",
      "Requirement already satisfied: typing-extensions in c:\\users\\rokeb\\pycharmprojects\\hay_test_task\\new_venv\\lib\\site-packages (from torch>=1.8.0->ultralytics) (4.4.0)\n",
      "Requirement already satisfied: sympy in c:\\users\\rokeb\\pycharmprojects\\hay_test_task\\new_venv\\lib\\site-packages (from torch>=1.8.0->ultralytics) (1.12)\n",
      "Requirement already satisfied: networkx in c:\\users\\rokeb\\pycharmprojects\\hay_test_task\\new_venv\\lib\\site-packages (from torch>=1.8.0->ultralytics) (3.0)\n",
      "Requirement already satisfied: jinja2 in c:\\users\\rokeb\\pycharmprojects\\hay_test_task\\new_venv\\lib\\site-packages (from torch>=1.8.0->ultralytics) (3.1.2)\n",
      "Requirement already satisfied: fsspec in c:\\users\\rokeb\\pycharmprojects\\hay_test_task\\new_venv\\lib\\site-packages (from torch>=1.8.0->ultralytics) (2023.4.0)\n",
      "Requirement already satisfied: colorama in c:\\users\\rokeb\\pycharmprojects\\hay_test_task\\new_venv\\lib\\site-packages (from tqdm>=4.64.0->ultralytics) (0.4.6)\n",
      "Requirement already satisfied: six>=1.5 in c:\\users\\rokeb\\pycharmprojects\\hay_test_task\\new_venv\\lib\\site-packages (from python-dateutil>=2.7->matplotlib>=3.3.0->ultralytics) (1.16.0)\n",
      "Requirement already satisfied: MarkupSafe>=2.0 in c:\\users\\rokeb\\pycharmprojects\\hay_test_task\\new_venv\\lib\\site-packages (from jinja2->torch>=1.8.0->ultralytics) (2.1.2)\n",
      "Requirement already satisfied: mpmath>=0.19 in c:\\users\\rokeb\\pycharmprojects\\hay_test_task\\new_venv\\lib\\site-packages (from sympy->torch>=1.8.0->ultralytics) (1.3.0)\n"
     ]
    }
   ],
   "source": [
    "!pip install ultralytics"
   ]
  },
  {
   "cell_type": "markdown",
   "source": [
    "Downloading the Required Libraries\n"
   ],
   "metadata": {
    "collapsed": false
   },
   "id": "4ed7c87fd8b2bc91"
  },
  {
   "cell_type": "code",
   "execution_count": 2,
   "outputs": [],
   "source": [
    "import zipfile\n",
    "import requests\n",
    "import cv2\n",
    "import matplotlib.pyplot as plt\n",
    "import glob \n",
    "import random\n",
    "import os"
   ],
   "metadata": {
    "collapsed": false,
    "ExecuteTime": {
     "end_time": "2023-12-03T13:35:07.527741500Z",
     "start_time": "2023-12-03T13:35:07.144477300Z"
    }
   },
   "id": "5f2f4483-81e9-4378-8e98-222ed56e0bad"
  },
  {
   "cell_type": "markdown",
   "source": [
    "## Clone Git Repo\n",
    "Copying data from a repository GitHub"
   ],
   "metadata": {
    "collapsed": false
   },
   "id": "eecf81d1cc44aa6c"
  },
  {
   "cell_type": "code",
   "execution_count": 3,
   "outputs": [],
   "source": [
    "#!git clone https://github.com/ThatCoderMan/Hay_test_task.git\n",
    "#!cp -rf ./Hay_test_task/* ./\n",
    "#!rm -r Hay_test_task/"
   ],
   "metadata": {
    "collapsed": false,
    "ExecuteTime": {
     "end_time": "2023-12-03T13:35:07.535840200Z",
     "start_time": "2023-12-03T13:35:07.528245700Z"
    }
   },
   "id": "a142418b02cab44e"
  },
  {
   "cell_type": "markdown",
   "id": "aca11f1c-3328-429d-949b-a942d011b328",
   "metadata": {
    "id": "aca11f1c-3328-429d-949b-a942d011b328"
   },
   "source": [
    "## Download the Dataset\n",
    "Downloading prepared masks from the site [roboflow](https://app.roboflow.com/ds)"
   ]
  },
  {
   "cell_type": "code",
   "execution_count": 4,
   "outputs": [],
   "source": [
    "# os.makedirs('datasets', exist_ok=True)\n",
    "# %cd datasets\n",
    "# !curl -L \"https://app.roboflow.com/ds/mzocbskx4m?key=Eb2lIuRA0D\" > roboflow.zip; unzip roboflow.zip; rm roboflow.zip\n",
    "# %cd .."
   ],
   "metadata": {
    "collapsed": false,
    "ExecuteTime": {
     "end_time": "2023-12-03T13:35:07.535840200Z",
     "start_time": "2023-12-03T13:35:07.530252400Z"
    }
   },
   "id": "43ed3ece-3bc5-41f4-bdf8-0e715051be0a"
  },
  {
   "cell_type": "markdown",
   "source": [
    "Downloading the original video from Google drive"
   ],
   "metadata": {
    "collapsed": false
   },
   "id": "2b9e3e0900f563e6"
  },
  {
   "cell_type": "code",
   "execution_count": 5,
   "outputs": [],
   "source": [
    "# %cd data/videos\n",
    "# !wget --no-check-certificate 'https://drive.usercontent.google.com/download?id=1_lWgETFS_sxk9tzgtteI5PZEeGzTdIXq&export=download&authuser=0&confirm=t&uuid=734bc640-a87a-48f7-b451-3d7d7946b78d&at=APZUnTW9SicfuV7bc74bHdfxhNjp:1698261775232' -O video.mp4\n",
    "# %cd ../..\n",
    "# %pwd"
   ],
   "metadata": {
    "collapsed": false,
    "ExecuteTime": {
     "end_time": "2023-12-03T13:35:07.541539600Z",
     "start_time": "2023-12-03T13:35:07.534335Z"
    }
   },
   "id": "5f45816a2c8e71a1"
  },
  {
   "cell_type": "markdown",
   "id": "67106dfe-ce91-48d1-ac7b-d40093ca040b",
   "metadata": {
    "id": "67106dfe-ce91-48d1-ac7b-d40093ca040b"
   },
   "source": [
    "## Visualize Images from the Dataset\n",
    "Checking formats on prepared data"
   ]
  },
  {
   "cell_type": "code",
   "execution_count": 6,
   "id": "ef2f34fc-564c-4cfd-928a-33fd6cacaf59",
   "metadata": {
    "id": "ef2f34fc-564c-4cfd-928a-33fd6cacaf59",
    "ExecuteTime": {
     "end_time": "2023-12-03T13:35:07.541539600Z",
     "start_time": "2023-12-03T13:35:07.537848200Z"
    }
   },
   "outputs": [],
   "source": [
    "# Function to convert bounding boxes in YOLO format to xmin, ymin, xmax, ymax.\n",
    "def yolo2bbox(bboxes):\n",
    "    xmin, ymin = bboxes[0]-bboxes[2]/2, bboxes[1]-bboxes[3]/2\n",
    "    xmax, ymax = bboxes[0]+bboxes[2]/2, bboxes[1]+bboxes[3]/2\n",
    "    return xmin, ymin, xmax, ymax"
   ]
  },
  {
   "cell_type": "code",
   "execution_count": 7,
   "id": "5a213ff6-fb28-4541-80f4-0f8c67323d9b",
   "metadata": {
    "id": "5a213ff6-fb28-4541-80f4-0f8c67323d9b",
    "ExecuteTime": {
     "end_time": "2023-12-03T13:35:07.546745700Z",
     "start_time": "2023-12-03T13:35:07.543235100Z"
    }
   },
   "outputs": [],
   "source": [
    "def plot_box(image, bboxes, labels):\n",
    "    # Need the image height and width to denormalize\n",
    "    # the bounding box coordinates\n",
    "    h, w, _ = image.shape\n",
    "    for box_num, box in enumerate(bboxes):\n",
    "        x1, y1, x2, y2 = yolo2bbox(box)\n",
    "        # Denormalize the coordinates.\n",
    "        xmin = int(x1*w)\n",
    "        ymin = int(y1*h)\n",
    "        xmax = int(x2*w)\n",
    "        ymax = int(y2*h)\n",
    "\n",
    "        thickness = max(2, int(w/275))\n",
    "                \n",
    "        cv2.rectangle(\n",
    "            image, \n",
    "            (xmin, ymin), (xmax, ymax),\n",
    "            color=(0, 0, 255),\n",
    "            thickness=thickness\n",
    "        )\n",
    "    return image"
   ]
  },
  {
   "cell_type": "markdown",
   "source": [
    "# Function to plot images with the bounding boxes."
   ],
   "metadata": {
    "collapsed": false
   },
   "id": "a081d26aecdcfdc5"
  },
  {
   "cell_type": "code",
   "execution_count": 8,
   "id": "17582d3e-2f08-430b-ab70-abced31cbe3c",
   "metadata": {
    "id": "17582d3e-2f08-430b-ab70-abced31cbe3c",
    "ExecuteTime": {
     "end_time": "2023-12-03T13:35:07.585397800Z",
     "start_time": "2023-12-03T13:35:07.548785900Z"
    }
   },
   "outputs": [],
   "source": [
    "\n",
    "def plot(image_paths, label_paths, num_samples):\n",
    "    all_images = []\n",
    "    all_images.extend(glob.glob(image_paths+'/*.jpg'))\n",
    "    all_images.extend(glob.glob(image_paths+'/*.JPG'))\n",
    "    \n",
    "    all_images.sort()\n",
    "\n",
    "    num_images = len(all_images)\n",
    "    \n",
    "    plt.figure(figsize=(15, 12))\n",
    "    for i in range(num_samples):\n",
    "        j = random.randint(0,num_images-1)\n",
    "        image_name = all_images[j]\n",
    "        image_name = '.'.join(image_name.split(os.path.sep)[-1].split('.')[:-1])\n",
    "        image = cv2.imread(all_images[j])\n",
    "        with open(os.path.join(label_paths, image_name+'.txt'), 'r') as f:\n",
    "            bboxes = []\n",
    "            labels = []\n",
    "            label_lines = f.readlines()\n",
    "            for label_line in label_lines:\n",
    "                label = label_line[0]\n",
    "                bbox_string = label_line[2:]\n",
    "                x_c, y_c, w, h = bbox_string.split(' ')\n",
    "                x_c = float(x_c)\n",
    "                y_c = float(y_c)\n",
    "                w = float(w)\n",
    "                h = float(h)\n",
    "                bboxes.append([x_c, y_c, w, h])\n",
    "                labels.append(label)\n",
    "        result_image = plot_box(image, bboxes, labels)\n",
    "        plt.subplot(2, 2, i+1)\n",
    "        plt.imshow(result_image[:, :, ::-1])\n",
    "        plt.axis('off')\n",
    "    plt.subplots_adjust(wspace=1)\n",
    "    plt.tight_layout()\n",
    "    plt.show()"
   ]
  },
  {
   "cell_type": "markdown",
   "source": [
    "# Visualize a few training images."
   ],
   "metadata": {
    "collapsed": false
   },
   "id": "ed31430ce088c800"
  },
  {
   "cell_type": "code",
   "execution_count": 9,
   "id": "29598f69-a9a2-4e3f-bcd4-18255a9d7f19",
   "metadata": {
    "colab": {
     "base_uri": "https://localhost:8080/",
     "height": 793
    },
    "id": "29598f69-a9a2-4e3f-bcd4-18255a9d7f19",
    "outputId": "2c897ab8-33ab-45fd-aff9-72718ce4bd6a",
    "ExecuteTime": {
     "end_time": "2023-12-03T13:35:07.585397800Z",
     "start_time": "2023-12-03T13:35:07.551297700Z"
    }
   },
   "outputs": [],
   "source": [
    "\n",
    "#plot(\n",
    "    # image_paths='../../datasets/train/images/',\n",
    "    # label_paths='../../datasets/train/labels/',\n",
    "    # num_samples=4,\n",
    "# )"
   ]
  },
  {
   "cell_type": "markdown",
   "id": "c25ceb15-6d00-4afa-a349-4dd4fdcf5193",
   "metadata": {
    "id": "c25ceb15-6d00-4afa-a349-4dd4fdcf5193"
   },
   "source": [
    "## Dataset YAML File\n",
    "Creating a File YAML for _Training_ and _Validation_ Files"
   ]
  },
  {
   "cell_type": "code",
   "execution_count": 10,
   "id": "b0031a4a-b114-444f-bc9e-e5e30ac79e42",
   "metadata": {
    "colab": {
     "base_uri": "https://localhost:8080/"
    },
    "id": "b0031a4a-b114-444f-bc9e-e5e30ac79e42",
    "outputId": "c748a3cf-528e-49d5-e0b3-3ef9d1d78b4e",
    "ExecuteTime": {
     "end_time": "2023-12-03T13:35:07.585397800Z",
     "start_time": "2023-12-03T13:35:07.554274Z"
    }
   },
   "outputs": [],
   "source": [
    "# %%writefile hay.yaml\n",
    "# path: ''\n",
    "# train: 'train/images'\n",
    "# val: 'valid/images'\n",
    "#\n",
    "# names:\n",
    "#   0: 'hay'"
   ]
  },
  {
   "cell_type": "markdown",
   "id": "9e86ee50-a8f0-4500-a001-42fb3f18439d",
   "metadata": {
    "id": "9e86ee50-a8f0-4500-a001-42fb3f18439d"
   },
   "source": [
    "## YOLOv8 Large Training"
   ]
  },
  {
   "cell_type": "code",
   "execution_count": 11,
   "outputs": [
    {
     "data": {
      "text/plain": "'C:\\\\Users\\\\rokeb\\\\PycharmProjects\\\\Hay_test_task\\\\notebooks'"
     },
     "execution_count": 11,
     "metadata": {},
     "output_type": "execute_result"
    }
   ],
   "source": [
    "%pwd"
   ],
   "metadata": {
    "collapsed": false,
    "ExecuteTime": {
     "end_time": "2023-12-03T13:35:07.590438100Z",
     "start_time": "2023-12-03T13:35:07.557322100Z"
    }
   }
  },
  {
   "cell_type": "code",
   "execution_count": 12,
   "id": "81a6b664-8e6f-4e31-ba6b-304164c40e1a",
   "metadata": {
    "colab": {
     "base_uri": "https://localhost:8080/"
    },
    "id": "81a6b664-8e6f-4e31-ba6b-304164c40e1a",
    "outputId": "ec52898e-3ae0-4889-97d2-0ba36223ecaf",
    "scrolled": true,
    "tags": [],
    "ExecuteTime": {
     "end_time": "2023-12-03T13:52:36.354278600Z",
     "start_time": "2023-12-03T13:35:07.567173100Z"
    }
   },
   "outputs": [
    {
     "name": "stdout",
     "output_type": "stream",
     "text": [
      "torch.cuda.is_available()=True\n",
      "torch.__version__='2.1.0+cu121'\n",
      "torchvision.__version__='0.16.0+cu121'\n"
     ]
    },
    {
     "name": "stderr",
     "output_type": "stream",
     "text": [
      "New https://pypi.org/project/ultralytics/8.0.221 available  Update with 'pip install -U ultralytics'\n",
      "Ultralytics YOLOv8.0.208  Python-3.11.6 torch-2.1.0+cu121 CUDA:0 (NVIDIA GeForce RTX 3060, 12287MiB)\n",
      "\u001B[34m\u001B[1mengine\\trainer: \u001B[0mtask=detect, mode=train, model=yolov8l.pt, data=hay.yaml, epochs=100, patience=50, batch=16, imgsz=640, save=True, save_period=-1, cache=False, device=[0], workers=8, project=None, name=train32, exist_ok=False, pretrained=True, optimizer=auto, verbose=True, seed=0, deterministic=True, single_cls=False, rect=False, cos_lr=False, close_mosaic=10, resume=False, amp=True, fraction=1.0, profile=False, freeze=None, overlap_mask=True, mask_ratio=4, dropout=0.0, val=True, split=val, save_json=False, save_hybrid=False, conf=None, iou=0.7, max_det=300, half=False, dnn=False, plots=True, source=None, show=False, save_txt=False, save_conf=False, save_crop=False, show_labels=True, show_conf=True, vid_stride=1, stream_buffer=False, line_width=None, visualize=False, augment=False, agnostic_nms=False, classes=None, retina_masks=False, boxes=True, format=torchscript, keras=False, optimize=False, int8=False, dynamic=False, simplify=False, opset=None, workspace=4, nms=False, lr0=0.01, lrf=0.01, momentum=0.937, weight_decay=0.0005, warmup_epochs=3.0, warmup_momentum=0.8, warmup_bias_lr=0.1, box=7.5, cls=0.5, dfl=1.5, pose=12.0, kobj=1.0, label_smoothing=0.0, nbs=64, hsv_h=0.015, hsv_s=0.7, hsv_v=0.4, degrees=0.0, translate=0.1, scale=0.5, shear=0.0, perspective=0.0, flipud=0.0, fliplr=0.5, mosaic=1.0, mixup=0.0, copy_paste=0.0, cfg=None, tracker=botsort.yaml, save_dir=C:\\Users\\rokeb\\PycharmProjects\\Hay_test_task\\runs\\detect\\train32\n",
      "Overriding model.yaml nc=80 with nc=1\n",
      "\n",
      "                   from  n    params  module                                       arguments                     \n",
      "  0                  -1  1      1856  ultralytics.nn.modules.conv.Conv             [3, 64, 3, 2]                 \n",
      "  1                  -1  1     73984  ultralytics.nn.modules.conv.Conv             [64, 128, 3, 2]               \n",
      "  2                  -1  3    279808  ultralytics.nn.modules.block.C2f             [128, 128, 3, True]           \n",
      "  3                  -1  1    295424  ultralytics.nn.modules.conv.Conv             [128, 256, 3, 2]              \n",
      "  4                  -1  6   2101248  ultralytics.nn.modules.block.C2f             [256, 256, 6, True]           \n",
      "  5                  -1  1   1180672  ultralytics.nn.modules.conv.Conv             [256, 512, 3, 2]              \n",
      "  6                  -1  6   8396800  ultralytics.nn.modules.block.C2f             [512, 512, 6, True]           \n",
      "  7                  -1  1   2360320  ultralytics.nn.modules.conv.Conv             [512, 512, 3, 2]              \n",
      "  8                  -1  3   4461568  ultralytics.nn.modules.block.C2f             [512, 512, 3, True]           \n",
      "  9                  -1  1    656896  ultralytics.nn.modules.block.SPPF            [512, 512, 5]                 \n",
      " 10                  -1  1         0  torch.nn.modules.upsampling.Upsample         [None, 2, 'nearest']          \n",
      " 11             [-1, 6]  1         0  ultralytics.nn.modules.conv.Concat           [1]                           \n",
      " 12                  -1  3   4723712  ultralytics.nn.modules.block.C2f             [1024, 512, 3]                \n",
      " 13                  -1  1         0  torch.nn.modules.upsampling.Upsample         [None, 2, 'nearest']          \n",
      " 14             [-1, 4]  1         0  ultralytics.nn.modules.conv.Concat           [1]                           \n",
      " 15                  -1  3   1247744  ultralytics.nn.modules.block.C2f             [768, 256, 3]                 \n",
      " 16                  -1  1    590336  ultralytics.nn.modules.conv.Conv             [256, 256, 3, 2]              \n",
      " 17            [-1, 12]  1         0  ultralytics.nn.modules.conv.Concat           [1]                           \n",
      " 18                  -1  3   4592640  ultralytics.nn.modules.block.C2f             [768, 512, 3]                 \n",
      " 19                  -1  1   2360320  ultralytics.nn.modules.conv.Conv             [512, 512, 3, 2]              \n",
      " 20             [-1, 9]  1         0  ultralytics.nn.modules.conv.Concat           [1]                           \n",
      " 21                  -1  3   4723712  ultralytics.nn.modules.block.C2f             [1024, 512, 3]                \n",
      " 22        [15, 18, 21]  1   5583571  ultralytics.nn.modules.head.Detect           [1, [256, 512, 512]]          \n",
      "Model summary: 365 layers, 43630611 parameters, 43630595 gradients, 165.4 GFLOPs\n",
      "\n",
      "Transferred 589/595 items from pretrained weights\n",
      "Freezing layer 'model.22.dfl.conv.weight'\n",
      "\u001B[34m\u001B[1mAMP: \u001B[0mrunning Automatic Mixed Precision (AMP) checks with YOLOv8n...\n",
      "\u001B[34m\u001B[1mAMP: \u001B[0mchecks passed \n",
      "\u001B[34m\u001B[1mtrain: \u001B[0mScanning C:\\Users\\rokeb\\PycharmProjects\\datasets\\train\\labels.cache... 192 images, 0 backgrounds, 0 corrupt: 100%|██████████| 192/192 [00:00<?, ?it/s]\n",
      "\u001B[34m\u001B[1mval: \u001B[0mScanning C:\\Users\\rokeb\\PycharmProjects\\datasets\\valid\\labels.cache... 26 images, 0 backgrounds, 0 corrupt: 100%|██████████| 26/26 [00:00<?, ?it/s]\n",
      "Plotting labels to C:\\Users\\rokeb\\PycharmProjects\\Hay_test_task\\runs\\detect\\train32\\labels.jpg... \n",
      "\u001B[34m\u001B[1moptimizer:\u001B[0m 'optimizer=auto' found, ignoring 'lr0=0.01' and 'momentum=0.937' and determining best 'optimizer', 'lr0' and 'momentum' automatically... \n",
      "\u001B[34m\u001B[1moptimizer:\u001B[0m AdamW(lr=0.002, momentum=0.9) with parameter groups 97 weight(decay=0.0), 104 weight(decay=0.0005), 103 bias(decay=0.0)\n",
      "Image sizes 640 train, 640 val\n",
      "Using 8 dataloader workers\n",
      "Logging results to \u001B[1mC:\\Users\\rokeb\\PycharmProjects\\Hay_test_task\\runs\\detect\\train32\u001B[0m\n",
      "Starting training for 100 epochs...\n",
      "\n",
      "      Epoch    GPU_mem   box_loss   cls_loss   dfl_loss  Instances       Size\n",
      "      1/100      10.2G      3.811      5.371      2.233        167        640: 100%|██████████| 12/12 [00:11<00:00,  1.03it/s]\n",
      "                 Class     Images  Instances      Box(P          R      mAP50  mAP50-95): 100%|██████████| 1/1 [00:00<00:00,  1.46it/s]\n",
      "                   all         26        158     0.0756      0.146     0.0479      0.015\n",
      "\n",
      "      Epoch    GPU_mem   box_loss   cls_loss   dfl_loss  Instances       Size\n",
      "      2/100      10.5G      2.481      4.695       1.42        177        640: 100%|██████████| 12/12 [00:07<00:00,  1.51it/s]\n",
      "                 Class     Images  Instances      Box(P          R      mAP50  mAP50-95): 100%|██████████| 1/1 [00:00<00:00,  1.66it/s]\n",
      "                   all         26        158     0.0702      0.203     0.0367     0.0143\n",
      "\n",
      "      Epoch    GPU_mem   box_loss   cls_loss   dfl_loss  Instances       Size\n",
      "      3/100      10.6G      2.325      2.564       1.33        171        640: 100%|██████████| 12/12 [00:07<00:00,  1.52it/s]\n",
      "                 Class     Images  Instances      Box(P          R      mAP50  mAP50-95): 100%|██████████| 1/1 [00:00<00:00,  1.36it/s]\n",
      "                   all         26        158     0.0702      0.203     0.0367     0.0143\n",
      "\n",
      "      Epoch    GPU_mem   box_loss   cls_loss   dfl_loss  Instances       Size\n",
      "      4/100      10.6G      2.229      2.229      1.301        133        640: 100%|██████████| 12/12 [00:07<00:00,  1.53it/s]\n",
      "                 Class     Images  Instances      Box(P          R      mAP50  mAP50-95): 100%|██████████| 1/1 [00:00<00:00,  1.25it/s]\n",
      "                   all         26        158     0.0702      0.203     0.0367     0.0143\n",
      "\n",
      "      Epoch    GPU_mem   box_loss   cls_loss   dfl_loss  Instances       Size\n",
      "      5/100      10.6G      2.304      2.062      1.304        151        640: 100%|██████████| 12/12 [00:08<00:00,  1.50it/s]\n",
      "                 Class     Images  Instances      Box(P          R      mAP50  mAP50-95): 100%|██████████| 1/1 [00:00<00:00,  1.34it/s]\n",
      "                   all         26        158     0.0702      0.203     0.0367     0.0143\n",
      "\n",
      "      Epoch    GPU_mem   box_loss   cls_loss   dfl_loss  Instances       Size\n",
      "      6/100      10.5G       2.25      1.891      1.283        187        640: 100%|██████████| 12/12 [00:07<00:00,  1.53it/s]\n",
      "                 Class     Images  Instances      Box(P          R      mAP50  mAP50-95): 100%|██████████| 1/1 [00:00<00:00,  1.99it/s]\n",
      "                   all         26        158     0.0702      0.203     0.0367     0.0143\n",
      "\n",
      "      Epoch    GPU_mem   box_loss   cls_loss   dfl_loss  Instances       Size\n",
      "      7/100      10.5G      2.219      1.942      1.275        115        640: 100%|██████████| 12/12 [00:07<00:00,  1.55it/s]\n",
      "                 Class     Images  Instances      Box(P          R      mAP50  mAP50-95): 100%|██████████| 1/1 [00:00<00:00,  2.56it/s]\n",
      "                   all         26        158     0.0702      0.203     0.0367     0.0143\n",
      "\n",
      "      Epoch    GPU_mem   box_loss   cls_loss   dfl_loss  Instances       Size\n",
      "      8/100      10.5G      2.156      1.856      1.262        137        640: 100%|██████████| 12/12 [00:07<00:00,  1.58it/s]\n",
      "                 Class     Images  Instances      Box(P          R      mAP50  mAP50-95): 100%|██████████| 1/1 [00:00<00:00,  2.32it/s]\n",
      "                   all         26        158     0.0702      0.203     0.0367     0.0143\n",
      "\n",
      "      Epoch    GPU_mem   box_loss   cls_loss   dfl_loss  Instances       Size\n",
      "      9/100      10.8G       2.21       2.01      1.296        133        640: 100%|██████████| 12/12 [00:07<00:00,  1.54it/s]\n",
      "                 Class     Images  Instances      Box(P          R      mAP50  mAP50-95): 100%|██████████| 1/1 [00:00<00:00,  1.05it/s]\n",
      "                   all         26        158     0.0702      0.203     0.0367     0.0143\n",
      "\n",
      "      Epoch    GPU_mem   box_loss   cls_loss   dfl_loss  Instances       Size\n",
      "     10/100      10.5G      2.143      1.831      1.279        120        640: 100%|██████████| 12/12 [00:07<00:00,  1.54it/s]\n",
      "                 Class     Images  Instances      Box(P          R      mAP50  mAP50-95): 100%|██████████| 1/1 [00:00<00:00,  1.67it/s]\n",
      "                   all         26        158     0.0702      0.203     0.0367     0.0143\n",
      "\n",
      "      Epoch    GPU_mem   box_loss   cls_loss   dfl_loss  Instances       Size\n",
      "     11/100      10.5G      2.223       1.71      1.258        119        640: 100%|██████████| 12/12 [00:07<00:00,  1.53it/s]\n",
      "                 Class     Images  Instances      Box(P          R      mAP50  mAP50-95): 100%|██████████| 1/1 [00:00<00:00,  1.87it/s]\n",
      "                   all         26        158     0.0382      0.184     0.0157    0.00499\n",
      "\n",
      "      Epoch    GPU_mem   box_loss   cls_loss   dfl_loss  Instances       Size\n",
      "     12/100      10.5G      2.127      1.568      1.234        102        640: 100%|██████████| 12/12 [00:07<00:00,  1.54it/s]\n",
      "                 Class     Images  Instances      Box(P          R      mAP50  mAP50-95): 100%|██████████| 1/1 [00:00<00:00,  1.91it/s]\n",
      "                   all         26        158      0.291      0.196      0.152     0.0681\n",
      "\n",
      "      Epoch    GPU_mem   box_loss   cls_loss   dfl_loss  Instances       Size\n",
      "     13/100      10.5G      2.027       1.58      1.201        132        640: 100%|██████████| 12/12 [00:07<00:00,  1.54it/s]\n",
      "                 Class     Images  Instances      Box(P          R      mAP50  mAP50-95): 100%|██████████| 1/1 [00:00<00:00,  1.75it/s]\n",
      "                   all         26        158     0.0688     0.0443     0.0219    0.00634\n",
      "\n",
      "      Epoch    GPU_mem   box_loss   cls_loss   dfl_loss  Instances       Size\n",
      "     14/100      10.5G      2.038      1.568      1.214        134        640: 100%|██████████| 12/12 [00:08<00:00,  1.49it/s]\n",
      "                 Class     Images  Instances      Box(P          R      mAP50  mAP50-95): 100%|██████████| 1/1 [00:00<00:00,  1.86it/s]\n",
      "                   all         26        158      0.174     0.0633     0.0349      0.011\n",
      "\n",
      "      Epoch    GPU_mem   box_loss   cls_loss   dfl_loss  Instances       Size\n",
      "     15/100      10.5G      2.042      1.514      1.201         87        640: 100%|██████████| 12/12 [00:07<00:00,  1.54it/s]\n",
      "                 Class     Images  Instances      Box(P          R      mAP50  mAP50-95): 100%|██████████| 1/1 [00:00<00:00,  1.80it/s]\n",
      "                   all         26        158      0.423      0.348      0.313      0.126\n",
      "\n",
      "      Epoch    GPU_mem   box_loss   cls_loss   dfl_loss  Instances       Size\n",
      "     16/100      10.5G      2.022      1.562      1.209        117        640: 100%|██████████| 12/12 [00:07<00:00,  1.52it/s]\n",
      "                 Class     Images  Instances      Box(P          R      mAP50  mAP50-95): 100%|██████████| 1/1 [00:00<00:00,  1.82it/s]\n",
      "                   all         26        158     0.0102      0.057     0.0103    0.00337\n",
      "\n",
      "      Epoch    GPU_mem   box_loss   cls_loss   dfl_loss  Instances       Size\n",
      "     17/100      10.5G      2.089      1.588      1.212        163        640: 100%|██████████| 12/12 [00:07<00:00,  1.54it/s]\n",
      "                 Class     Images  Instances      Box(P          R      mAP50  mAP50-95): 100%|██████████| 1/1 [00:00<00:00,  1.84it/s]\n",
      "                   all         26        158       0.34     0.0849     0.0722     0.0304\n",
      "\n",
      "      Epoch    GPU_mem   box_loss   cls_loss   dfl_loss  Instances       Size\n",
      "     18/100      10.5G       1.97      1.549      1.213        122        640: 100%|██████████| 12/12 [00:07<00:00,  1.53it/s]\n",
      "                 Class     Images  Instances      Box(P          R      mAP50  mAP50-95): 100%|██████████| 1/1 [00:00<00:00,  1.93it/s]\n",
      "                   all         26        158       0.71      0.538       0.64      0.258\n",
      "\n",
      "      Epoch    GPU_mem   box_loss   cls_loss   dfl_loss  Instances       Size\n",
      "     19/100      10.5G      1.962      1.452      1.201        166        640: 100%|██████████| 12/12 [00:07<00:00,  1.55it/s]\n",
      "                 Class     Images  Instances      Box(P          R      mAP50  mAP50-95): 100%|██████████| 1/1 [00:00<00:00,  1.72it/s]\n",
      "                   all         26        158       0.55      0.595      0.554      0.238\n",
      "\n",
      "      Epoch    GPU_mem   box_loss   cls_loss   dfl_loss  Instances       Size\n",
      "     20/100      10.5G      1.979      1.464      1.171        146        640: 100%|██████████| 12/12 [00:07<00:00,  1.55it/s]\n",
      "                 Class     Images  Instances      Box(P          R      mAP50  mAP50-95): 100%|██████████| 1/1 [00:00<00:00,  1.99it/s]\n",
      "                   all         26        158      0.621      0.354      0.414      0.167\n",
      "\n",
      "      Epoch    GPU_mem   box_loss   cls_loss   dfl_loss  Instances       Size\n",
      "     21/100      10.5G      1.947      1.394      1.151        142        640: 100%|██████████| 12/12 [00:07<00:00,  1.55it/s]\n",
      "                 Class     Images  Instances      Box(P          R      mAP50  mAP50-95): 100%|██████████| 1/1 [00:00<00:00,  2.01it/s]\n",
      "                   all         26        158      0.472      0.601       0.48      0.192\n",
      "\n",
      "      Epoch    GPU_mem   box_loss   cls_loss   dfl_loss  Instances       Size\n",
      "     22/100      10.5G      1.911      1.359       1.15         98        640: 100%|██████████| 12/12 [00:07<00:00,  1.56it/s]\n",
      "                 Class     Images  Instances      Box(P          R      mAP50  mAP50-95): 100%|██████████| 1/1 [00:00<00:00,  1.90it/s]\n",
      "                   all         26        158       0.23      0.272      0.154     0.0557\n",
      "\n",
      "      Epoch    GPU_mem   box_loss   cls_loss   dfl_loss  Instances       Size\n",
      "     23/100      10.5G      1.919      1.309      1.145         95        640: 100%|██████████| 12/12 [00:07<00:00,  1.54it/s]\n",
      "                 Class     Images  Instances      Box(P          R      mAP50  mAP50-95): 100%|██████████| 1/1 [00:00<00:00,  2.10it/s]\n",
      "                   all         26        158      0.349      0.038     0.0559     0.0205\n",
      "\n",
      "      Epoch    GPU_mem   box_loss   cls_loss   dfl_loss  Instances       Size\n",
      "     24/100      10.5G      1.892      1.301      1.172        104        640: 100%|██████████| 12/12 [00:07<00:00,  1.55it/s]\n",
      "                 Class     Images  Instances      Box(P          R      mAP50  mAP50-95): 100%|██████████| 1/1 [00:00<00:00,  1.98it/s]\n",
      "                   all         26        158      0.584      0.222      0.293      0.133\n",
      "\n",
      "      Epoch    GPU_mem   box_loss   cls_loss   dfl_loss  Instances       Size\n",
      "     25/100      10.5G      1.847      1.264       1.14        147        640: 100%|██████████| 12/12 [00:07<00:00,  1.55it/s]\n",
      "                 Class     Images  Instances      Box(P          R      mAP50  mAP50-95): 100%|██████████| 1/1 [00:00<00:00,  1.82it/s]\n",
      "                   all         26        158      0.747      0.601      0.694      0.344\n",
      "\n",
      "      Epoch    GPU_mem   box_loss   cls_loss   dfl_loss  Instances       Size\n",
      "     26/100      10.5G       1.84      1.239       1.13        134        640: 100%|██████████| 12/12 [00:07<00:00,  1.54it/s]\n",
      "                 Class     Images  Instances      Box(P          R      mAP50  mAP50-95): 100%|██████████| 1/1 [00:00<00:00,  2.05it/s]\n",
      "                   all         26        158      0.591      0.577      0.585      0.251\n",
      "\n",
      "      Epoch    GPU_mem   box_loss   cls_loss   dfl_loss  Instances       Size\n",
      "     27/100      10.5G      1.861      1.264      1.133        145        640: 100%|██████████| 12/12 [00:07<00:00,  1.55it/s]\n",
      "                 Class     Images  Instances      Box(P          R      mAP50  mAP50-95): 100%|██████████| 1/1 [00:00<00:00,  1.87it/s]\n",
      "                   all         26        158      0.599      0.614      0.595      0.249\n",
      "\n",
      "      Epoch    GPU_mem   box_loss   cls_loss   dfl_loss  Instances       Size\n",
      "     28/100      10.5G      1.835       1.21       1.12        157        640: 100%|██████████| 12/12 [00:07<00:00,  1.55it/s]\n",
      "                 Class     Images  Instances      Box(P          R      mAP50  mAP50-95): 100%|██████████| 1/1 [00:00<00:00,  1.86it/s]\n",
      "                   all         26        158      0.682      0.652      0.682      0.302\n",
      "\n",
      "      Epoch    GPU_mem   box_loss   cls_loss   dfl_loss  Instances       Size\n",
      "     29/100      10.5G      1.853      1.187      1.151        109        640: 100%|██████████| 12/12 [00:07<00:00,  1.54it/s]\n",
      "                 Class     Images  Instances      Box(P          R      mAP50  mAP50-95): 100%|██████████| 1/1 [00:00<00:00,  1.98it/s]\n",
      "                   all         26        158      0.707      0.704      0.712      0.297\n",
      "\n",
      "      Epoch    GPU_mem   box_loss   cls_loss   dfl_loss  Instances       Size\n",
      "     30/100      10.5G      1.871      1.178      1.116        185        640: 100%|██████████| 12/12 [00:07<00:00,  1.55it/s]\n",
      "                 Class     Images  Instances      Box(P          R      mAP50  mAP50-95): 100%|██████████| 1/1 [00:00<00:00,  1.99it/s]\n",
      "                   all         26        158      0.725      0.734      0.754      0.333\n",
      "\n",
      "      Epoch    GPU_mem   box_loss   cls_loss   dfl_loss  Instances       Size\n",
      "     31/100      10.5G      1.884      1.199       1.13        166        640: 100%|██████████| 12/12 [00:07<00:00,  1.54it/s]\n",
      "                 Class     Images  Instances      Box(P          R      mAP50  mAP50-95): 100%|██████████| 1/1 [00:00<00:00,  1.82it/s]\n",
      "                   all         26        158      0.778      0.622      0.731      0.324\n",
      "\n",
      "      Epoch    GPU_mem   box_loss   cls_loss   dfl_loss  Instances       Size\n",
      "     32/100      10.5G      1.866      1.204      1.135        128        640: 100%|██████████| 12/12 [00:07<00:00,  1.55it/s]\n",
      "                 Class     Images  Instances      Box(P          R      mAP50  mAP50-95): 100%|██████████| 1/1 [00:00<00:00,  2.03it/s]\n",
      "                   all         26        158       0.71      0.722      0.769      0.384\n",
      "\n",
      "      Epoch    GPU_mem   box_loss   cls_loss   dfl_loss  Instances       Size\n",
      "     33/100      10.5G      1.823      1.221      1.137        169        640: 100%|██████████| 12/12 [00:07<00:00,  1.55it/s]\n",
      "                 Class     Images  Instances      Box(P          R      mAP50  mAP50-95): 100%|██████████| 1/1 [00:00<00:00,  1.97it/s]\n",
      "                   all         26        158      0.778       0.62      0.739      0.342\n",
      "\n",
      "      Epoch    GPU_mem   box_loss   cls_loss   dfl_loss  Instances       Size\n",
      "     34/100      10.5G      1.861      1.199       1.12        158        640: 100%|██████████| 12/12 [00:07<00:00,  1.55it/s]\n",
      "                 Class     Images  Instances      Box(P          R      mAP50  mAP50-95): 100%|██████████| 1/1 [00:00<00:00,  1.91it/s]\n",
      "                   all         26        158    0.00526    0.00633    0.00274    0.00192\n",
      "\n",
      "      Epoch    GPU_mem   box_loss   cls_loss   dfl_loss  Instances       Size\n",
      "     35/100      10.5G      1.799       1.16      1.101        158        640: 100%|██████████| 12/12 [00:07<00:00,  1.54it/s]\n",
      "                 Class     Images  Instances      Box(P          R      mAP50  mAP50-95): 100%|██████████| 1/1 [00:00<00:00,  1.87it/s]\n",
      "                   all         26        158      0.793      0.633       0.72      0.311\n",
      "\n",
      "      Epoch    GPU_mem   box_loss   cls_loss   dfl_loss  Instances       Size\n",
      "     36/100      10.5G      1.784      1.111      1.108        164        640: 100%|██████████| 12/12 [00:07<00:00,  1.53it/s]\n",
      "                 Class     Images  Instances      Box(P          R      mAP50  mAP50-95): 100%|██████████| 1/1 [00:00<00:00,  1.76it/s]\n",
      "                   all         26        158      0.811      0.706      0.793      0.367\n",
      "\n",
      "      Epoch    GPU_mem   box_loss   cls_loss   dfl_loss  Instances       Size\n",
      "     37/100      10.5G      1.776      1.109      1.091        149        640: 100%|██████████| 12/12 [00:07<00:00,  1.54it/s]\n",
      "                 Class     Images  Instances      Box(P          R      mAP50  mAP50-95): 100%|██████████| 1/1 [00:00<00:00,  2.00it/s]\n",
      "                   all         26        158      0.729      0.684      0.751      0.325\n",
      "\n",
      "      Epoch    GPU_mem   box_loss   cls_loss   dfl_loss  Instances       Size\n",
      "     38/100      10.5G      1.726      1.096      1.097        107        640: 100%|██████████| 12/12 [00:07<00:00,  1.54it/s]\n",
      "                 Class     Images  Instances      Box(P          R      mAP50  mAP50-95): 100%|██████████| 1/1 [00:00<00:00,  1.87it/s]\n",
      "                   all         26        158      0.806      0.753       0.81      0.395\n",
      "\n",
      "      Epoch    GPU_mem   box_loss   cls_loss   dfl_loss  Instances       Size\n",
      "     39/100      10.5G      1.756      1.092      1.086        112        640: 100%|██████████| 12/12 [00:07<00:00,  1.54it/s]\n",
      "                 Class     Images  Instances      Box(P          R      mAP50  mAP50-95): 100%|██████████| 1/1 [00:00<00:00,  1.93it/s]\n",
      "                   all         26        158      0.701      0.623       0.68      0.298\n",
      "\n",
      "      Epoch    GPU_mem   box_loss   cls_loss   dfl_loss  Instances       Size\n",
      "     40/100      10.5G      1.729      1.093      1.105        210        640: 100%|██████████| 12/12 [00:07<00:00,  1.55it/s]\n",
      "                 Class     Images  Instances      Box(P          R      mAP50  mAP50-95): 100%|██████████| 1/1 [00:00<00:00,  1.83it/s]\n",
      "                   all         26        158       0.82      0.719      0.796      0.368\n",
      "\n",
      "      Epoch    GPU_mem   box_loss   cls_loss   dfl_loss  Instances       Size\n",
      "     41/100      10.5G      1.734      1.035       1.11        138        640: 100%|██████████| 12/12 [00:07<00:00,  1.54it/s]\n",
      "                 Class     Images  Instances      Box(P          R      mAP50  mAP50-95): 100%|██████████| 1/1 [00:00<00:00,  1.97it/s]\n",
      "                   all         26        158      0.753      0.684      0.733      0.328\n",
      "\n",
      "      Epoch    GPU_mem   box_loss   cls_loss   dfl_loss  Instances       Size\n",
      "     42/100      10.5G      1.705      1.062      1.085        120        640: 100%|██████████| 12/12 [00:07<00:00,  1.54it/s]\n",
      "                 Class     Images  Instances      Box(P          R      mAP50  mAP50-95): 100%|██████████| 1/1 [00:00<00:00,  1.87it/s]\n",
      "                   all         26        158      0.715      0.646      0.718      0.339\n",
      "\n",
      "      Epoch    GPU_mem   box_loss   cls_loss   dfl_loss  Instances       Size\n",
      "     43/100      10.5G       1.69      1.036      1.082        134        640: 100%|██████████| 12/12 [00:07<00:00,  1.54it/s]\n",
      "                 Class     Images  Instances      Box(P          R      mAP50  mAP50-95): 100%|██████████| 1/1 [00:00<00:00,  2.05it/s]\n",
      "                   all         26        158      0.787      0.723      0.781       0.36\n",
      "\n",
      "      Epoch    GPU_mem   box_loss   cls_loss   dfl_loss  Instances       Size\n",
      "     44/100      10.5G      1.718      1.059      1.093        144        640: 100%|██████████| 12/12 [00:07<00:00,  1.54it/s]\n",
      "                 Class     Images  Instances      Box(P          R      mAP50  mAP50-95): 100%|██████████| 1/1 [00:00<00:00,  1.87it/s]\n",
      "                   all         26        158      0.834      0.696      0.811       0.41\n",
      "\n",
      "      Epoch    GPU_mem   box_loss   cls_loss   dfl_loss  Instances       Size\n",
      "     45/100      10.5G      1.676      1.014      1.061        112        640: 100%|██████████| 12/12 [00:07<00:00,  1.54it/s]\n",
      "                 Class     Images  Instances      Box(P          R      mAP50  mAP50-95): 100%|██████████| 1/1 [00:00<00:00,  2.03it/s]\n",
      "                   all         26        158      0.767      0.645      0.719      0.348\n",
      "\n",
      "      Epoch    GPU_mem   box_loss   cls_loss   dfl_loss  Instances       Size\n",
      "     46/100      10.5G      1.646     0.9637       1.06        130        640: 100%|██████████| 12/12 [00:07<00:00,  1.54it/s]\n",
      "                 Class     Images  Instances      Box(P          R      mAP50  mAP50-95): 100%|██████████| 1/1 [00:00<00:00,  1.87it/s]\n",
      "                   all         26        158       0.79      0.667      0.751      0.344\n",
      "\n",
      "      Epoch    GPU_mem   box_loss   cls_loss   dfl_loss  Instances       Size\n",
      "     47/100      10.5G      1.621     0.9571      1.054        114        640: 100%|██████████| 12/12 [00:07<00:00,  1.54it/s]\n",
      "                 Class     Images  Instances      Box(P          R      mAP50  mAP50-95): 100%|██████████| 1/1 [00:00<00:00,  2.01it/s]\n",
      "                   all         26        158      0.835      0.753      0.831      0.397\n",
      "\n",
      "      Epoch    GPU_mem   box_loss   cls_loss   dfl_loss  Instances       Size\n",
      "     48/100      10.5G      1.628     0.9211      1.071        121        640: 100%|██████████| 12/12 [00:07<00:00,  1.55it/s]\n",
      "                 Class     Images  Instances      Box(P          R      mAP50  mAP50-95): 100%|██████████| 1/1 [00:00<00:00,  1.93it/s]\n",
      "                   all         26        158      0.882       0.69      0.816      0.381\n",
      "\n",
      "      Epoch    GPU_mem   box_loss   cls_loss   dfl_loss  Instances       Size\n",
      "     49/100      10.5G      1.662     0.9693      1.068         86        640: 100%|██████████| 12/12 [00:07<00:00,  1.55it/s]\n",
      "                 Class     Images  Instances      Box(P          R      mAP50  mAP50-95): 100%|██████████| 1/1 [00:00<00:00,  1.99it/s]\n",
      "                   all         26        158      0.815      0.766      0.812      0.393\n",
      "\n",
      "      Epoch    GPU_mem   box_loss   cls_loss   dfl_loss  Instances       Size\n",
      "     50/100      10.5G      1.626     0.9415      1.045        136        640: 100%|██████████| 12/12 [00:07<00:00,  1.54it/s]\n",
      "                 Class     Images  Instances      Box(P          R      mAP50  mAP50-95): 100%|██████████| 1/1 [00:00<00:00,  1.87it/s]\n",
      "                   all         26        158      0.845      0.723      0.804      0.387\n",
      "\n",
      "      Epoch    GPU_mem   box_loss   cls_loss   dfl_loss  Instances       Size\n",
      "     51/100      10.5G      1.611     0.9365      1.044        105        640: 100%|██████████| 12/12 [00:07<00:00,  1.55it/s]\n",
      "                 Class     Images  Instances      Box(P          R      mAP50  mAP50-95): 100%|██████████| 1/1 [00:00<00:00,  2.12it/s]\n",
      "                   all         26        158      0.887      0.734      0.827      0.393\n",
      "\n",
      "      Epoch    GPU_mem   box_loss   cls_loss   dfl_loss  Instances       Size\n",
      "     52/100      10.5G      1.591     0.9227      1.039        122        640: 100%|██████████| 12/12 [00:07<00:00,  1.54it/s]\n",
      "                 Class     Images  Instances      Box(P          R      mAP50  mAP50-95): 100%|██████████| 1/1 [00:00<00:00,  1.91it/s]\n",
      "                   all         26        158      0.824      0.772      0.816       0.37\n",
      "\n",
      "      Epoch    GPU_mem   box_loss   cls_loss   dfl_loss  Instances       Size\n",
      "     53/100      10.5G        1.6     0.9125      1.037        125        640: 100%|██████████| 12/12 [00:07<00:00,  1.54it/s]\n",
      "                 Class     Images  Instances      Box(P          R      mAP50  mAP50-95): 100%|██████████| 1/1 [00:00<00:00,  2.12it/s]\n",
      "                   all         26        158      0.795      0.711      0.804      0.381\n",
      "\n",
      "      Epoch    GPU_mem   box_loss   cls_loss   dfl_loss  Instances       Size\n",
      "     54/100      10.5G      1.564     0.8805      1.047        130        640: 100%|██████████| 12/12 [00:07<00:00,  1.54it/s]\n",
      "                 Class     Images  Instances      Box(P          R      mAP50  mAP50-95): 100%|██████████| 1/1 [00:00<00:00,  1.87it/s]\n",
      "                   all         26        158       0.84      0.732      0.823      0.397\n",
      "\n",
      "      Epoch    GPU_mem   box_loss   cls_loss   dfl_loss  Instances       Size\n",
      "     55/100      10.5G      1.582     0.8538      1.048        118        640: 100%|██████████| 12/12 [00:07<00:00,  1.55it/s]\n",
      "                 Class     Images  Instances      Box(P          R      mAP50  mAP50-95): 100%|██████████| 1/1 [00:00<00:00,  1.99it/s]\n",
      "                   all         26        158      0.879      0.759      0.826      0.385\n",
      "\n",
      "      Epoch    GPU_mem   box_loss   cls_loss   dfl_loss  Instances       Size\n",
      "     56/100      10.5G      1.597     0.8842      1.029        173        640: 100%|██████████| 12/12 [00:07<00:00,  1.54it/s]\n",
      "                 Class     Images  Instances      Box(P          R      mAP50  mAP50-95): 100%|██████████| 1/1 [00:00<00:00,  1.87it/s]\n",
      "                   all         26        158      0.838      0.715      0.767      0.386\n",
      "\n",
      "      Epoch    GPU_mem   box_loss   cls_loss   dfl_loss  Instances       Size\n",
      "     57/100      10.5G      1.622     0.9035      1.055        168        640: 100%|██████████| 12/12 [00:07<00:00,  1.54it/s]\n",
      "                 Class     Images  Instances      Box(P          R      mAP50  mAP50-95): 100%|██████████| 1/1 [00:00<00:00,  2.01it/s]\n",
      "                   all         26        158      0.785      0.627       0.71      0.335\n",
      "\n",
      "      Epoch    GPU_mem   box_loss   cls_loss   dfl_loss  Instances       Size\n",
      "     58/100      10.5G      1.535     0.8487      1.033        100        640: 100%|██████████| 12/12 [00:07<00:00,  1.54it/s]\n",
      "                 Class     Images  Instances      Box(P          R      mAP50  mAP50-95): 100%|██████████| 1/1 [00:00<00:00,  1.87it/s]\n",
      "                   all         26        158       0.78      0.715      0.785      0.369\n",
      "\n",
      "      Epoch    GPU_mem   box_loss   cls_loss   dfl_loss  Instances       Size\n",
      "     59/100      10.5G      1.561     0.8633      1.038        109        640: 100%|██████████| 12/12 [00:07<00:00,  1.54it/s]\n",
      "                 Class     Images  Instances      Box(P          R      mAP50  mAP50-95): 100%|██████████| 1/1 [00:00<00:00,  1.93it/s]\n",
      "                   all         26        158      0.824      0.773      0.841      0.396\n",
      "\n",
      "      Epoch    GPU_mem   box_loss   cls_loss   dfl_loss  Instances       Size\n",
      "     60/100      10.5G      1.564     0.8317      1.036        128        640: 100%|██████████| 12/12 [00:07<00:00,  1.54it/s]\n",
      "                 Class     Images  Instances      Box(P          R      mAP50  mAP50-95): 100%|██████████| 1/1 [00:00<00:00,  1.82it/s]\n",
      "                   all         26        158      0.843      0.671      0.767      0.357\n",
      "\n",
      "      Epoch    GPU_mem   box_loss   cls_loss   dfl_loss  Instances       Size\n",
      "     61/100      10.5G      1.553     0.8488      1.045        114        640: 100%|██████████| 12/12 [00:07<00:00,  1.54it/s]\n",
      "                 Class     Images  Instances      Box(P          R      mAP50  mAP50-95): 100%|██████████| 1/1 [00:00<00:00,  2.05it/s]\n",
      "                   all         26        158       0.75      0.671      0.722      0.339\n",
      "\n",
      "      Epoch    GPU_mem   box_loss   cls_loss   dfl_loss  Instances       Size\n",
      "     62/100      10.5G      1.481      0.798      1.008        116        640: 100%|██████████| 12/12 [00:07<00:00,  1.55it/s]\n",
      "                 Class     Images  Instances      Box(P          R      mAP50  mAP50-95): 100%|██████████| 1/1 [00:00<00:00,  1.87it/s]\n",
      "                   all         26        158      0.867        0.7       0.82      0.408\n",
      "\n",
      "      Epoch    GPU_mem   box_loss   cls_loss   dfl_loss  Instances       Size\n",
      "     63/100      10.5G       1.49     0.7826      1.006        136        640: 100%|██████████| 12/12 [00:07<00:00,  1.54it/s]\n",
      "                 Class     Images  Instances      Box(P          R      mAP50  mAP50-95): 100%|██████████| 1/1 [00:00<00:00,  2.05it/s]\n",
      "                   all         26        158      0.805       0.69       0.79       0.36\n",
      "\n",
      "      Epoch    GPU_mem   box_loss   cls_loss   dfl_loss  Instances       Size\n",
      "     64/100      10.5G      1.478     0.7999      1.023        117        640: 100%|██████████| 12/12 [00:07<00:00,  1.54it/s]\n",
      "                 Class     Images  Instances      Box(P          R      mAP50  mAP50-95): 100%|██████████| 1/1 [00:00<00:00,  1.87it/s]\n",
      "                   all         26        158      0.867      0.791      0.837      0.425\n",
      "\n",
      "      Epoch    GPU_mem   box_loss   cls_loss   dfl_loss  Instances       Size\n",
      "     65/100      10.5G      1.489     0.7665      1.005        179        640: 100%|██████████| 12/12 [00:07<00:00,  1.54it/s]\n",
      "                 Class     Images  Instances      Box(P          R      mAP50  mAP50-95): 100%|██████████| 1/1 [00:00<00:00,  2.12it/s]\n",
      "                   all         26        158      0.869      0.703      0.801      0.388\n",
      "\n",
      "      Epoch    GPU_mem   box_loss   cls_loss   dfl_loss  Instances       Size\n",
      "     66/100      10.5G      1.422     0.7574     0.9829        143        640: 100%|██████████| 12/12 [00:07<00:00,  1.54it/s]\n",
      "                 Class     Images  Instances      Box(P          R      mAP50  mAP50-95): 100%|██████████| 1/1 [00:00<00:00,  1.93it/s]\n",
      "                   all         26        158      0.888      0.704      0.806      0.413\n",
      "\n",
      "      Epoch    GPU_mem   box_loss   cls_loss   dfl_loss  Instances       Size\n",
      "     67/100      10.5G      1.407      0.735     0.9876        108        640: 100%|██████████| 12/12 [00:07<00:00,  1.54it/s]\n",
      "                 Class     Images  Instances      Box(P          R      mAP50  mAP50-95): 100%|██████████| 1/1 [00:00<00:00,  2.05it/s]\n",
      "                   all         26        158       0.89      0.764      0.848      0.404\n",
      "\n",
      "      Epoch    GPU_mem   box_loss   cls_loss   dfl_loss  Instances       Size\n",
      "     68/100      10.5G      1.402     0.7198     0.9884        107        640: 100%|██████████| 12/12 [00:07<00:00,  1.55it/s]\n",
      "                 Class     Images  Instances      Box(P          R      mAP50  mAP50-95): 100%|██████████| 1/1 [00:00<00:00,  1.87it/s]\n",
      "                   all         26        158      0.867      0.778      0.829      0.402\n",
      "\n",
      "      Epoch    GPU_mem   box_loss   cls_loss   dfl_loss  Instances       Size\n",
      "     69/100      10.5G      1.441     0.7564     0.9954        134        640: 100%|██████████| 12/12 [00:07<00:00,  1.53it/s]\n",
      "                 Class     Images  Instances      Box(P          R      mAP50  mAP50-95): 100%|██████████| 1/1 [00:00<00:00,  1.99it/s]\n",
      "                   all         26        158      0.888      0.801      0.836      0.422\n",
      "\n",
      "      Epoch    GPU_mem   box_loss   cls_loss   dfl_loss  Instances       Size\n",
      "     70/100      10.5G      1.406     0.7324     0.9988        107        640: 100%|██████████| 12/12 [00:07<00:00,  1.54it/s]\n",
      "                 Class     Images  Instances      Box(P          R      mAP50  mAP50-95): 100%|██████████| 1/1 [00:00<00:00,  1.78it/s]\n",
      "                   all         26        158      0.865      0.769      0.829      0.419\n",
      "\n",
      "      Epoch    GPU_mem   box_loss   cls_loss   dfl_loss  Instances       Size\n",
      "     71/100      10.5G      1.342      0.717     0.9621        136        640: 100%|██████████| 12/12 [00:07<00:00,  1.52it/s]\n",
      "                 Class     Images  Instances      Box(P          R      mAP50  mAP50-95): 100%|██████████| 1/1 [00:00<00:00,  2.05it/s]\n",
      "                   all         26        158      0.938      0.728      0.844      0.418\n",
      "\n",
      "      Epoch    GPU_mem   box_loss   cls_loss   dfl_loss  Instances       Size\n",
      "     72/100      10.5G       1.38     0.7069     0.9897        147        640: 100%|██████████| 12/12 [00:07<00:00,  1.54it/s]\n",
      "                 Class     Images  Instances      Box(P          R      mAP50  mAP50-95): 100%|██████████| 1/1 [00:00<00:00,  1.84it/s]\n",
      "                   all         26        158      0.882      0.753      0.817      0.406\n",
      "\n",
      "      Epoch    GPU_mem   box_loss   cls_loss   dfl_loss  Instances       Size\n",
      "     73/100      10.5G      1.344     0.7047     0.9684        105        640: 100%|██████████| 12/12 [00:07<00:00,  1.53it/s]\n",
      "                 Class     Images  Instances      Box(P          R      mAP50  mAP50-95): 100%|██████████| 1/1 [00:00<00:00,  1.99it/s]\n",
      "                   all         26        158      0.873      0.738      0.813      0.404\n",
      "\n",
      "      Epoch    GPU_mem   box_loss   cls_loss   dfl_loss  Instances       Size\n",
      "     74/100      10.5G      1.317     0.6798     0.9815        130        640: 100%|██████████| 12/12 [00:07<00:00,  1.54it/s]\n",
      "                 Class     Images  Instances      Box(P          R      mAP50  mAP50-95): 100%|██████████| 1/1 [00:00<00:00,  1.88it/s]\n",
      "                   all         26        158       0.86      0.709      0.805      0.382\n",
      "\n",
      "      Epoch    GPU_mem   box_loss   cls_loss   dfl_loss  Instances       Size\n",
      "     75/100      10.5G      1.319     0.6861     0.9674        120        640: 100%|██████████| 12/12 [00:07<00:00,  1.53it/s]\n",
      "                 Class     Images  Instances      Box(P          R      mAP50  mAP50-95): 100%|██████████| 1/1 [00:00<00:00,  1.97it/s]\n",
      "                   all         26        158      0.848      0.734      0.837      0.394\n",
      "\n",
      "      Epoch    GPU_mem   box_loss   cls_loss   dfl_loss  Instances       Size\n",
      "     76/100      10.5G      1.307     0.6651     0.9678        132        640: 100%|██████████| 12/12 [00:07<00:00,  1.53it/s]\n",
      "                 Class     Images  Instances      Box(P          R      mAP50  mAP50-95): 100%|██████████| 1/1 [00:00<00:00,  1.72it/s]\n",
      "                   all         26        158       0.92      0.753      0.846      0.426\n",
      "\n",
      "      Epoch    GPU_mem   box_loss   cls_loss   dfl_loss  Instances       Size\n",
      "     77/100      10.5G      1.262      0.662     0.9627        121        640: 100%|██████████| 12/12 [00:07<00:00,  1.54it/s]\n",
      "                 Class     Images  Instances      Box(P          R      mAP50  mAP50-95): 100%|██████████| 1/1 [00:00<00:00,  2.05it/s]\n",
      "                   all         26        158      0.937      0.728      0.851      0.419\n",
      "\n",
      "      Epoch    GPU_mem   box_loss   cls_loss   dfl_loss  Instances       Size\n",
      "     78/100      10.5G      1.254     0.6592     0.9245        190        640: 100%|██████████| 12/12 [00:07<00:00,  1.54it/s]\n",
      "                 Class     Images  Instances      Box(P          R      mAP50  mAP50-95): 100%|██████████| 1/1 [00:00<00:00,  1.84it/s]\n",
      "                   all         26        158      0.832      0.804       0.85      0.409\n",
      "\n",
      "      Epoch    GPU_mem   box_loss   cls_loss   dfl_loss  Instances       Size\n",
      "     79/100      10.5G      1.267     0.6531     0.9548        108        640: 100%|██████████| 12/12 [00:07<00:00,  1.54it/s]\n",
      "                 Class     Images  Instances      Box(P          R      mAP50  mAP50-95): 100%|██████████| 1/1 [00:00<00:00,  2.05it/s]\n",
      "                   all         26        158      0.865      0.772      0.843      0.411\n",
      "\n",
      "      Epoch    GPU_mem   box_loss   cls_loss   dfl_loss  Instances       Size\n",
      "     80/100      10.5G      1.262     0.6512     0.9527        127        640: 100%|██████████| 12/12 [00:07<00:00,  1.54it/s]\n",
      "                 Class     Images  Instances      Box(P          R      mAP50  mAP50-95): 100%|██████████| 1/1 [00:00<00:00,  1.87it/s]\n",
      "                   all         26        158      0.856      0.785       0.83      0.411\n",
      "\n",
      "      Epoch    GPU_mem   box_loss   cls_loss   dfl_loss  Instances       Size\n",
      "     81/100      10.5G      1.304      0.658     0.9514        145        640: 100%|██████████| 12/12 [00:07<00:00,  1.54it/s]\n",
      "                 Class     Images  Instances      Box(P          R      mAP50  mAP50-95): 100%|██████████| 1/1 [00:00<00:00,  2.05it/s]\n",
      "                   all         26        158      0.898      0.759      0.831      0.416\n",
      "\n",
      "      Epoch    GPU_mem   box_loss   cls_loss   dfl_loss  Instances       Size\n",
      "     82/100      10.5G      1.244     0.6277     0.9455        134        640: 100%|██████████| 12/12 [00:07<00:00,  1.53it/s]\n",
      "                 Class     Images  Instances      Box(P          R      mAP50  mAP50-95): 100%|██████████| 1/1 [00:00<00:00,  1.82it/s]\n",
      "                   all         26        158      0.858      0.747      0.799      0.396\n",
      "\n",
      "      Epoch    GPU_mem   box_loss   cls_loss   dfl_loss  Instances       Size\n",
      "     83/100      10.5G      1.224     0.6175     0.9343        106        640: 100%|██████████| 12/12 [00:07<00:00,  1.54it/s]\n",
      "                 Class     Images  Instances      Box(P          R      mAP50  mAP50-95): 100%|██████████| 1/1 [00:00<00:00,  1.99it/s]\n",
      "                   all         26        158      0.899      0.772       0.82      0.406\n",
      "\n",
      "      Epoch    GPU_mem   box_loss   cls_loss   dfl_loss  Instances       Size\n",
      "     84/100      10.5G        1.2     0.6085     0.9256        171        640: 100%|██████████| 12/12 [00:07<00:00,  1.54it/s]\n",
      "                 Class     Images  Instances      Box(P          R      mAP50  mAP50-95): 100%|██████████| 1/1 [00:00<00:00,  1.88it/s]\n",
      "                   all         26        158      0.807      0.823      0.834      0.399\n",
      "\n",
      "      Epoch    GPU_mem   box_loss   cls_loss   dfl_loss  Instances       Size\n",
      "     85/100      10.5G      1.159     0.5914     0.9354        129        640: 100%|██████████| 12/12 [00:07<00:00,  1.54it/s]\n",
      "                 Class     Images  Instances      Box(P          R      mAP50  mAP50-95): 100%|██████████| 1/1 [00:00<00:00,  1.99it/s]\n",
      "                   all         26        158      0.848      0.785      0.834      0.397\n",
      "\n",
      "      Epoch    GPU_mem   box_loss   cls_loss   dfl_loss  Instances       Size\n",
      "     86/100      10.5G      1.183     0.6071     0.9336        150        640: 100%|██████████| 12/12 [00:07<00:00,  1.54it/s]\n",
      "                 Class     Images  Instances      Box(P          R      mAP50  mAP50-95): 100%|██████████| 1/1 [00:00<00:00,  1.72it/s]\n",
      "                   all         26        158      0.884      0.725      0.833      0.392\n",
      "\n",
      "      Epoch    GPU_mem   box_loss   cls_loss   dfl_loss  Instances       Size\n",
      "     87/100      10.5G      1.174     0.6183     0.9294        142        640: 100%|██████████| 12/12 [00:07<00:00,  1.53it/s]\n",
      "                 Class     Images  Instances      Box(P          R      mAP50  mAP50-95): 100%|██████████| 1/1 [00:00<00:00,  1.82it/s]\n",
      "                   all         26        158      0.865      0.811      0.864       0.41\n",
      "\n",
      "      Epoch    GPU_mem   box_loss   cls_loss   dfl_loss  Instances       Size\n",
      "     88/100      10.5G       1.16     0.5911     0.9399        134        640: 100%|██████████| 12/12 [00:07<00:00,  1.54it/s]\n",
      "                 Class     Images  Instances      Box(P          R      mAP50  mAP50-95): 100%|██████████| 1/1 [00:00<00:00,  1.63it/s]\n",
      "                   all         26        158      0.903      0.797      0.874      0.411\n",
      "\n",
      "      Epoch    GPU_mem   box_loss   cls_loss   dfl_loss  Instances       Size\n",
      "     89/100      10.5G      1.202     0.5953     0.9343        117        640: 100%|██████████| 12/12 [00:07<00:00,  1.53it/s]\n",
      "                 Class     Images  Instances      Box(P          R      mAP50  mAP50-95): 100%|██████████| 1/1 [00:00<00:00,  1.75it/s]\n",
      "                   all         26        158      0.847      0.816       0.85      0.415\n",
      "\n",
      "      Epoch    GPU_mem   box_loss   cls_loss   dfl_loss  Instances       Size\n",
      "     90/100      10.5G       1.19        0.6     0.9386        107        640: 100%|██████████| 12/12 [00:07<00:00,  1.52it/s]\n",
      "                 Class     Images  Instances      Box(P          R      mAP50  mAP50-95): 100%|██████████| 1/1 [00:00<00:00,  1.72it/s]\n",
      "                   all         26        158      0.822      0.788      0.823      0.408\n",
      "Closing dataloader mosaic\n",
      "\n",
      "      Epoch    GPU_mem   box_loss   cls_loss   dfl_loss  Instances       Size\n",
      "     91/100      10.5G      1.236     0.6134     0.9648         88        640: 100%|██████████| 12/12 [00:08<00:00,  1.48it/s]\n",
      "                 Class     Images  Instances      Box(P          R      mAP50  mAP50-95): 100%|██████████| 1/1 [00:00<00:00,  1.93it/s]\n",
      "                   all         26        158      0.879      0.753      0.826      0.407\n",
      "\n",
      "      Epoch    GPU_mem   box_loss   cls_loss   dfl_loss  Instances       Size\n",
      "     92/100      10.5G      1.135     0.5584     0.9613         91        640: 100%|██████████| 12/12 [00:07<00:00,  1.55it/s]\n",
      "                 Class     Images  Instances      Box(P          R      mAP50  mAP50-95): 100%|██████████| 1/1 [00:00<00:00,  1.82it/s]\n",
      "                   all         26        158       0.82      0.778      0.822      0.409\n",
      "\n",
      "      Epoch    GPU_mem   box_loss   cls_loss   dfl_loss  Instances       Size\n",
      "     93/100      10.5G       1.15     0.5671     0.9669         83        640: 100%|██████████| 12/12 [00:07<00:00,  1.55it/s]\n",
      "                 Class     Images  Instances      Box(P          R      mAP50  mAP50-95): 100%|██████████| 1/1 [00:00<00:00,  2.05it/s]\n",
      "                   all         26        158      0.833       0.79      0.836      0.406\n",
      "\n",
      "      Epoch    GPU_mem   box_loss   cls_loss   dfl_loss  Instances       Size\n",
      "     94/100      10.5G      1.088     0.5374     0.9399         82        640: 100%|██████████| 12/12 [00:07<00:00,  1.56it/s]\n",
      "                 Class     Images  Instances      Box(P          R      mAP50  mAP50-95): 100%|██████████| 1/1 [00:00<00:00,  1.87it/s]\n",
      "                   all         26        158      0.785      0.833      0.837      0.414\n",
      "\n",
      "      Epoch    GPU_mem   box_loss   cls_loss   dfl_loss  Instances       Size\n",
      "     95/100      10.5G      1.072     0.5231     0.9314         99        640: 100%|██████████| 12/12 [00:07<00:00,  1.55it/s]\n",
      "                 Class     Images  Instances      Box(P          R      mAP50  mAP50-95): 100%|██████████| 1/1 [00:00<00:00,  2.07it/s]\n",
      "                   all         26        158      0.805      0.816      0.827      0.409\n",
      "\n",
      "      Epoch    GPU_mem   box_loss   cls_loss   dfl_loss  Instances       Size\n",
      "     96/100      10.5G      1.096     0.5407     0.9481         91        640: 100%|██████████| 12/12 [00:07<00:00,  1.55it/s]\n",
      "                 Class     Images  Instances      Box(P          R      mAP50  mAP50-95): 100%|██████████| 1/1 [00:00<00:00,  1.82it/s]\n",
      "                   all         26        158      0.801       0.81      0.831      0.403\n",
      "\n",
      "      Epoch    GPU_mem   box_loss   cls_loss   dfl_loss  Instances       Size\n",
      "     97/100      10.5G      1.063     0.5277     0.9367        111        640: 100%|██████████| 12/12 [00:07<00:00,  1.55it/s]\n",
      "                 Class     Images  Instances      Box(P          R      mAP50  mAP50-95): 100%|██████████| 1/1 [00:00<00:00,  1.96it/s]\n",
      "                   all         26        158      0.813      0.816      0.836      0.407\n",
      "\n",
      "      Epoch    GPU_mem   box_loss   cls_loss   dfl_loss  Instances       Size\n",
      "     98/100      10.5G      1.038     0.5172     0.9179        119        640: 100%|██████████| 12/12 [00:07<00:00,  1.55it/s]\n",
      "                 Class     Images  Instances      Box(P          R      mAP50  mAP50-95): 100%|██████████| 1/1 [00:00<00:00,  1.92it/s]\n",
      "                   all         26        158      0.782      0.804      0.825      0.411\n",
      "\n",
      "      Epoch    GPU_mem   box_loss   cls_loss   dfl_loss  Instances       Size\n",
      "     99/100      10.5G       1.04     0.5031     0.9296         91        640: 100%|██████████| 12/12 [00:07<00:00,  1.55it/s]\n",
      "                 Class     Images  Instances      Box(P          R      mAP50  mAP50-95): 100%|██████████| 1/1 [00:00<00:00,  1.98it/s]\n",
      "                   all         26        158      0.818      0.791      0.862      0.419\n",
      "\n",
      "      Epoch    GPU_mem   box_loss   cls_loss   dfl_loss  Instances       Size\n",
      "    100/100      10.5G      1.023      0.507     0.9359         85        640: 100%|██████████| 12/12 [00:07<00:00,  1.55it/s]\n",
      "                 Class     Images  Instances      Box(P          R      mAP50  mAP50-95): 100%|██████████| 1/1 [00:00<00:00,  1.89it/s]\n",
      "                   all         26        158      0.802       0.81      0.856      0.419\n",
      "\n",
      "100 epochs completed in 0.276 hours.\n",
      "Optimizer stripped from C:\\Users\\rokeb\\PycharmProjects\\Hay_test_task\\runs\\detect\\train32\\weights\\last.pt, 87.7MB\n",
      "Optimizer stripped from C:\\Users\\rokeb\\PycharmProjects\\Hay_test_task\\runs\\detect\\train32\\weights\\best.pt, 87.7MB\n",
      "\n",
      "Validating C:\\Users\\rokeb\\PycharmProjects\\Hay_test_task\\runs\\detect\\train32\\weights\\best.pt...\n",
      "Ultralytics YOLOv8.0.208  Python-3.11.6 torch-2.1.0+cu121 CUDA:0 (NVIDIA GeForce RTX 3060, 12287MiB)\n",
      "Model summary (fused): 268 layers, 43607379 parameters, 0 gradients, 164.8 GFLOPs\n",
      "                 Class     Images  Instances      Box(P          R      mAP50  mAP50-95): 100%|██████████| 1/1 [00:00<00:00,  1.93it/s]\n",
      "                   all         26        158      0.955      0.722      0.842      0.424\n",
      "Speed: 0.0ms preprocess, 13.9ms inference, 0.0ms loss, 0.6ms postprocess per image\n",
      "Results saved to \u001B[1mC:\\Users\\rokeb\\PycharmProjects\\Hay_test_task\\runs\\detect\\train32\u001B[0m\n"
     ]
    }
   ],
   "source": [
    "import os\n",
    "import torch\n",
    "import torchvision\n",
    "print(f'{torch.cuda.is_available()=}')\n",
    "print(f'{torch.__version__=}')\n",
    "print(f'{torchvision.__version__=}')\n",
    "os.environ['KMP_DUPLICATE_LIB_OK'] = 'TRUE'\n",
    "\n",
    "from ultralytics import YOLO\n",
    "\n",
    "model = YOLO('yolov8l.pt')\n",
    "result = model.train(data='hay.yaml', epochs=100, batch=16, device=[0])\n",
    "\n",
    "# EPOCHS = 20\n",
    "# !yolo task=detect mode=train model=yolov8l.pt epochs={EPOCHS} batch=16 name=hay_model data=hay.yaml device=0"
   ]
  },
  {
   "cell_type": "markdown",
   "id": "03071a7c-6c2b-45e0-8a9c-f37384fab77e",
   "metadata": {
    "id": "03071a7c-6c2b-45e0-8a9c-f37384fab77e"
   },
   "source": [
    "10## Inference on Validation Images1\n",
    "Video-to-video tracking command"
   ]
  },
  {
   "cell_type": "code",
   "execution_count": 13,
   "outputs": [],
   "source": [
    "# !yolo track \\\n",
    "# model=runs/detect/hay_model/weights/best.pt \\\n",
    "# source=data/videos/Seno1.mp4 \\\n",
    "# name=result \\\n",
    "# hide_labels=True \\\n",
    "# conf=0.1 iou=0.75"
   ],
   "metadata": {
    "collapsed": false,
    "ExecuteTime": {
     "end_time": "2023-12-03T13:52:36.354278600Z",
     "start_time": "2023-12-03T13:52:36.354278600Z"
    }
   },
   "id": "bfd164748b0eace2"
  },
  {
   "cell_type": "markdown",
   "source": [
    "Command to localize objects from photo to photo"
   ],
   "metadata": {
    "collapsed": false
   },
   "id": "6a495726d764b69e"
  },
  {
   "cell_type": "code",
   "execution_count": 14,
   "outputs": [],
   "source": [
    "# !yolo task=detect \\\n",
    "# mode=predict \\\n",
    "# model=runs/detect/hay_model/weights/best.pt \\\n",
    "# source=data/videos/original_video \\\n",
    "# name=result \\\n",
    "# hide_labels=True"
   ],
   "metadata": {
    "collapsed": false,
    "ExecuteTime": {
     "end_time": "2023-12-03T13:52:36.361256500Z",
     "start_time": "2023-12-03T13:52:36.354278600Z"
    }
   },
   "id": "b2e2073a-d46e-47f4-8b82-de3d424ef633"
  },
  {
   "cell_type": "markdown",
   "source": [
    "Convert Photos to Videos"
   ],
   "metadata": {
    "collapsed": false
   },
   "id": "327fe6242ff2e49f"
  },
  {
   "cell_type": "code",
   "execution_count": 15,
   "outputs": [],
   "source": [
    "# !ffmpeg -f image2 -r 24 -i ./runs/detect/result/frame_%04d.jpg  result.mp4 "
   ],
   "metadata": {
    "collapsed": false,
    "ExecuteTime": {
     "end_time": "2023-12-03T13:52:36.364932Z",
     "start_time": "2023-12-03T13:52:36.361256500Z"
    }
   },
   "id": "89d22fd3674ce1e4"
  },
  {
   "cell_type": "markdown",
   "id": "53b20328-2e16-4ef0-855c-5212b058e539",
   "metadata": {
    "id": "53b20328-2e16-4ef0-855c-5212b058e539"
   },
   "source": [
    "## Visualize Validation Results\n",
    "Display of processed data"
   ]
  },
  {
   "cell_type": "code",
   "execution_count": 16,
   "id": "06dcd014-8a95-424e-b443-0ae3bd404431",
   "metadata": {
    "id": "06dcd014-8a95-424e-b443-0ae3bd404431",
    "ExecuteTime": {
     "end_time": "2023-12-03T13:52:36.370575200Z",
     "start_time": "2023-12-03T13:52:36.364932Z"
    }
   },
   "outputs": [],
   "source": [
    "# Plot and visualize images in a 2x2 grid.\n",
    "def visualize(result_dir, num_samples=4):\n",
    "    \"\"\"\n",
    "    Function accepts a list of images and plots\n",
    "    them in a 2x2 grid.\n",
    "    \"\"\"\n",
    "    plt.figure(figsize=(20, 12))\n",
    "    image_names = glob.glob(os.path.join(result_dir, '*.jpg'))\n",
    "    random.shuffle(image_names)\n",
    "    for i, image_name in enumerate(image_names):\n",
    "        image = plt.imread(image_name)\n",
    "        plt.subplot(2, 2, i+1)\n",
    "        plt.imshow(image)\n",
    "        plt.axis('off')\n",
    "        if i == num_samples-1:\n",
    "            break\n",
    "    plt.tight_layout()\n",
    "    plt.show()"
   ]
  },
  {
   "cell_type": "code",
   "execution_count": 17,
   "id": "d2b3f113-cc15-4a46-906a-9884ca3780d1",
   "metadata": {
    "id": "d2b3f113-cc15-4a46-906a-9884ca3780d1",
    "ExecuteTime": {
     "end_time": "2023-12-03T13:52:36.382138900Z",
     "start_time": "2023-12-03T13:52:36.370575200Z"
    }
   },
   "outputs": [
    {
     "data": {
      "text/plain": "<Figure size 2000x1200 with 0 Axes>"
     },
     "metadata": {},
     "output_type": "display_data"
    }
   ],
   "source": [
    "visualize('runs/detect/hay_model10/')"
   ]
  },
  {
   "cell_type": "code",
   "execution_count": 17,
   "outputs": [],
   "source": [],
   "metadata": {
    "collapsed": false,
    "ExecuteTime": {
     "end_time": "2023-12-03T13:52:36.384645600Z",
     "start_time": "2023-12-03T13:52:36.382138900Z"
    }
   }
  }
 ],
 "metadata": {
  "accelerator": "GPU",
  "colab": {
   "provenance": []
  },
  "gpuClass": "standard",
  "kernelspec": {
   "display_name": "Python 3",
   "language": "python",
   "name": "python3"
  },
  "language_info": {
   "codemirror_mode": {
    "name": "ipython",
    "version": 3
   },
   "file_extension": ".py",
   "mimetype": "text/x-python",
   "name": "python",
   "nbconvert_exporter": "python",
   "pygments_lexer": "ipython3",
   "version": "3.9.15"
  }
 },
 "nbformat": 4,
 "nbformat_minor": 5
}
