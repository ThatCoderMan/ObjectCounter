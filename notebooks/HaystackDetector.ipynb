{
 "cells": [
  {
   "cell_type": "markdown",
   "source": [
    "Installing the `ultralytics` library"
   ],
   "metadata": {
    "collapsed": false
   },
   "id": "9ee5c885685f365d"
  },
  {
   "cell_type": "code",
   "execution_count": 1,
   "outputs": [
    {
     "name": "stdout",
     "output_type": "stream",
     "text": [
      "^C\n"
     ]
    }
   ],
   "source": [
    "!pip install ultralytics"
   ],
   "metadata": {
    "collapsed": false,
    "ExecuteTime": {
     "end_time": "2023-11-09T17:00:11.744866800Z",
     "start_time": "2023-11-09T16:59:58.143298600Z"
    }
   },
   "id": "1c6fe336-9564-4d40-bbc4-ae9a823ea6e4"
  },
  {
   "cell_type": "markdown",
   "source": [
    "Copying data from a repository [GitHub](https://github.com/ThatCoderMan/Hay_test_task.git)"
   ],
   "metadata": {
    "collapsed": false
   },
   "id": "c5c690b11a2d76e1"
  },
  {
   "cell_type": "code",
   "execution_count": null,
   "outputs": [],
   "source": [
    "!git clone https://github.com/ThatCoderMan/Hay_test_task.git\n",
    "!cp -rf ./Hay_test_task/* ./\n",
    "!rm -r Hay_test_task/"
   ],
   "metadata": {
    "collapsed": false
   },
   "id": "a142418b02cab44e"
  },
  {
   "cell_type": "markdown",
   "source": [
    "Downloading the original video from Google drive"
   ],
   "metadata": {
    "collapsed": false
   },
   "id": "fbc713c27a895c01"
  },
  {
   "cell_type": "code",
   "execution_count": null,
   "outputs": [],
   "source": [
    "%cd data/videos\n",
    "!wget --no-check-certificate ... -O video.mp4\n",
    "%cd ../..\n",
    "%pwd"
   ],
   "metadata": {
    "collapsed": false
   },
   "id": "5f45816a2c8e71a1"
  },
  {
   "cell_type": "code",
   "execution_count": null,
   "outputs": [],
   "source": [
    "from handler import Tracker, Size\n",
    "tracker = Tracker(show=True, video_path='data/videos/video.mp4', conf=0.1, imgsz=Size.s4K)\n",
    "tracker.process_video()"
   ],
   "metadata": {
    "collapsed": false
   },
   "id": "18777df5d499c86c"
  },
  {
   "cell_type": "markdown",
   "source": [
    "Creating Videos from Edited Photos"
   ],
   "metadata": {
    "collapsed": false
   },
   "id": "e9fb2e8a000fb5d1"
  },
  {
   "cell_type": "code",
   "execution_count": null,
   "outputs": [],
   "source": [
    "tracker.save_video()"
   ],
   "metadata": {
    "collapsed": false
   },
   "id": "bc33fcbacefd3f7b"
  }
 ],
 "metadata": {
  "accelerator": "GPU",
  "colab": {
   "provenance": []
  },
  "gpuClass": "standard",
  "kernelspec": {
   "display_name": "Python 3",
   "language": "python",
   "name": "python3"
  },
  "language_info": {
   "codemirror_mode": {
    "name": "ipython",
    "version": 3
   },
   "file_extension": ".py",
   "mimetype": "text/x-python",
   "name": "python",
   "nbconvert_exporter": "python",
   "pygments_lexer": "ipython3",
   "version": "3.9.15"
  }
 },
 "nbformat": 4,
 "nbformat_minor": 5
}
